{
 "cells": [
  {
   "cell_type": "markdown",
   "metadata": {},
   "source": [
    "# Exercise #1: Implement KNN by hand\n",
    "\n",
    "----------\n",
    "### Step (1): Environment Setup\n",
    "This notebook demonstrates the usage of the my by hand implemented KNN classifier.<br />\n",
    "In order to demonstrate it's usage, let's setup the environment first and load the Iris data set which we will also use for classification in this case:"
   ]
  },
  {
   "cell_type": "code",
   "execution_count": 1,
   "metadata": {
    "collapsed": true
   },
   "outputs": [],
   "source": [
    "import numpy as np\n",
    "from sklearn import datasets\n",
    "from thb.datascience.ibm.KNNClassifier import KNNClassifier\n",
    "\n",
    "# load the iris data set\n",
    "iris = datasets.load_iris()"
   ]
  },
  {
   "cell_type": "markdown",
   "metadata": {},
   "source": [
    "-------------\n",
    "### Step (2): Define the sample\n",
    "To have a sample to classify, let's define it. We will use the given Iris sample from Exercise #2:\n"
   ]
  },
  {
   "cell_type": "code",
   "execution_count": 2,
   "metadata": {},
   "outputs": [],
   "source": [
    "# define the sample we wanto to classify\n",
    "iris_sample = np.array([4.8, 2.5, 5.3, 2.4])"
   ]
  },
  {
   "cell_type": "markdown",
   "metadata": {},
   "source": [
    "------------\n",
    "### Step (3): Usage of the custom KNN classifier\n",
    "Now, let's demonstrate the usage of my custom KNN implementation and classify the *`Iris sample`* from the previous step<br />\n",
    "across all it's given features (*here:* `4 dimensions`):"
   ]
  },
  {
   "cell_type": "code",
   "execution_count": 3,
   "metadata": {},
   "outputs": [
    {
     "data": {
      "text/plain": [
       "2.0"
      ]
     },
     "execution_count": 3,
     "metadata": {},
     "output_type": "execute_result"
    }
   ],
   "source": [
    "# instantiate the custom KNN-classifier\n",
    "knn = KNNClassifier()\n",
    "knn.k = 10\n",
    "\n",
    "# perform the classification\n",
    "predicted_class = knn.classify(iris_sample, iris.data, iris.target)\n",
    "predicted_class"
   ]
  },
  {
   "cell_type": "markdown",
   "metadata": {},
   "source": [
    "The custom KNN classifier predicated the class ***`2.0`***.<br />\n",
    "Let's find out, what the corresponding classification name is:"
   ]
  },
  {
   "cell_type": "code",
   "execution_count": 4,
   "metadata": {},
   "outputs": [
    {
     "data": {
      "text/plain": [
       "'virginica'"
      ]
     },
     "execution_count": 4,
     "metadata": {},
     "output_type": "execute_result"
    }
   ],
   "source": [
    "iris.target_names[int(predicted_class)]"
   ]
  },
  {
   "cell_type": "markdown",
   "metadata": {},
   "source": [
    "### ==> The Iris sample is an Iris-Virginica"
   ]
  }
 ],
 "metadata": {
  "kernelspec": {
   "display_name": "Python 2",
   "language": "python",
   "name": "python2"
  },
  "language_info": {
   "codemirror_mode": {
    "name": "ipython",
    "version": 2
   },
   "file_extension": ".py",
   "mimetype": "text/x-python",
   "name": "python",
   "nbconvert_exporter": "python",
   "pygments_lexer": "ipython2",
   "version": "2.7.6"
  }
 },
 "nbformat": 4,
 "nbformat_minor": 0
}
